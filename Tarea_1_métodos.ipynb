{
  "nbformat": 4,
  "nbformat_minor": 0,
  "metadata": {
    "colab": {
      "provenance": []
    },
    "kernelspec": {
      "name": "python3",
      "display_name": "Python 3"
    },
    "language_info": {
      "name": "python"
    }
  },
  "cells": [
    {
      "cell_type": "markdown",
      "source": [
        "# Tarea 1\n",
        "## Métodos numéricos y probabilidades\n",
        "Constansa Lizama Srain.\n",
        "\n",
        "agosto 2023"
      ],
      "metadata": {
        "id": "PmlAKLVZ3CnC"
      }
    },
    {
      "cell_type": "code",
      "execution_count": 10,
      "metadata": {
        "colab": {
          "base_uri": "https://localhost:8080/"
        },
        "id": "mnGXgrOg2vri",
        "outputId": "79dfb3f4-a1f0-4dfc-bfd7-5371168acb65"
      },
      "outputs": [
        {
          "output_type": "stream",
          "name": "stdout",
          "text": [
            "la suma de todos los números enteros de 0 a 100 es 5050\n"
          ]
        }
      ],
      "source": [
        "suma = 0 # fija el valor inicial de la suma en cero\n",
        "for i in range(101): #ciclo que recorre range(101), el cual va desde 0 hasta 100\n",
        "  suma = suma + i #realiza la suma de los números\n",
        "print(\"la suma de todos los números enteros de 0 a 100 es\", suma) #imprime el resultado"
      ]
    }
  ]
}
