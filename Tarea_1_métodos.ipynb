{
 "cells": [
  {
   "cell_type": "markdown",
   "metadata": {
    "id": "PmlAKLVZ3CnC"
   },
   "source": [
    "# Tarea 1\n",
    "## Métodos numéricos y probabilidades\n",
    "Constansa Lizama Srain.\n",
    "\n",
    "agosto 2023"
   ]
  },
  {
   "cell_type": "code",
   "execution_count": 1,
   "metadata": {
    "colab": {
     "base_uri": "https://localhost:8080/"
    },
    "id": "mnGXgrOg2vri",
    "outputId": "79dfb3f4-a1f0-4dfc-bfd7-5371168acb65"
   },
   "outputs": [
    {
     "name": "stdout",
     "output_type": "stream",
     "text": [
      "la suma de todos los números enteros de 0 a 100 es 5050\n"
     ]
    }
   ],
   "source": [
    "suma = 0 # fija el valor inicial de la suma en cero\n",
    "for i in range(101): #ciclo que recorre range(101), el cual va desde 0 hasta 100\n",
    "  suma = suma + i #realiza la suma de los números\n",
    "print(\"la suma de todos los números enteros de 0 a 100 es\", suma) #imprime el resultado"
   ]
  },
  {
   "cell_type": "markdown",
   "metadata": {},
   "source": [
    "# Calificacion: 7.0"
   ]
  }
 ],
 "metadata": {
  "colab": {
   "provenance": []
  },
  "kernelspec": {
   "display_name": "Python 3 (ipykernel)",
   "language": "python",
   "name": "python3"
  },
  "language_info": {
   "codemirror_mode": {
    "name": "ipython",
    "version": 3
   },
   "file_extension": ".py",
   "mimetype": "text/x-python",
   "name": "python",
   "nbconvert_exporter": "python",
   "pygments_lexer": "ipython3",
   "version": "3.10.9"
  }
 },
 "nbformat": 4,
 "nbformat_minor": 1
}
