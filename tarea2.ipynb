{
  "nbformat": 4,
  "nbformat_minor": 0,
  "metadata": {
    "colab": {
      "provenance": []
    },
    "kernelspec": {
      "name": "python3",
      "display_name": "Python 3"
    },
    "language_info": {
      "name": "python"
    }
  },
  "cells": [
    {
      "cell_type": "code",
      "source": [
        "import numpy as np"
      ],
      "metadata": {
        "id": "tRvmdBViVbUc"
      },
      "execution_count": 2,
      "outputs": []
    },
    {
      "cell_type": "code",
      "execution_count": 3,
      "metadata": {
        "id": "H-rrHPWCa5oY"
      },
      "outputs": [],
      "source": [
        "valor_real = np.exp(-5) #valor de la función e^-5\n",
        "def errores(aprox):  #función que calculará el error absoluto y el error relativo\n",
        "  e_abs= np.abs(aprox - valor_real) #fórmula error absoluto\n",
        "  e_rel=np.abs(aprox - valor_real)/np.abs(valor_real) #fórmula error relativo\n",
        "  print(\"El error absoluto bajo esta aproximación es:\" , e_abs , \". El error relativo de esta aproximación es:\", e_rel)"
      ]
    },
    {
      "cell_type": "markdown",
      "source": [
        "#Primer método de aproximación\n",
        "$\\sum_{n=0}^9 \\frac{1}{n!}(-5)^n$"
      ],
      "metadata": {
        "id": "hudyXzpKUlff"
      }
    },
    {
      "cell_type": "code",
      "source": [
        "\n",
        "n1 = 0 #inicializador, la sumatoria comienza desde 0\n",
        "\n",
        "for i in range(10): #i recorrerá los valores de 0 a 9\n",
        "  n1 = n1 + (1/(np.math.factorial(i))) * (-5)**(i) #actualiza el valor de n, sumand cada término en lo que avanza i\n",
        "print(\"El resultado de esta aproximación es:\", n1) # imprime solo el resultado final\n",
        "errores(n1)"
      ],
      "metadata": {
        "colab": {
          "base_uri": "https://localhost:8080/"
        },
        "id": "zqVhXV9_UnJm",
        "outputId": "eedc4158-bf9a-4bae-f359-c74e704f7917"
      },
      "execution_count": 30,
      "outputs": [
        {
          "output_type": "stream",
          "name": "stdout",
          "text": [
            "El resultado de esta aproximación es: -1.8271053791887146\n",
            "El error absoluto bajo esta aproximación es: 1.8338433261878 . El error relativo de esta aproximación es: 272.16648133870825\n"
          ]
        }
      ]
    },
    {
      "cell_type": "markdown",
      "source": [
        "#Segundo método\n",
        "$\\frac{1}{\\sum_{n=0}^9 \\frac{1}{n!} 5^n}$"
      ],
      "metadata": {
        "id": "2r81cPe_ktLf"
      }
    },
    {
      "cell_type": "code",
      "source": [
        "\n",
        "n=0 #inicio de la sumatoria en 0\n",
        "for i in range(10): #i recorrerá los valores de 0 a 9\n",
        "  n += 1/ (np.math.factorial(i)) * 5**i #calcula solo el valor del denominador\n",
        "final = 1/n #obtiene el inverso n\n",
        "print(\"El resultado de esta aproximación es:\",final) # imprime resultado de la aproximación\n",
        "errores(final)\n"
      ],
      "metadata": {
        "id": "H9NhHiPXkvfj",
        "colab": {
          "base_uri": "https://localhost:8080/"
        },
        "outputId": "d54b8c45-9c74-442d-85a6-9701872c7368"
      },
      "execution_count": 24,
      "outputs": [
        {
          "output_type": "stream",
          "name": "stdout",
          "text": [
            "El resultado de esta aproximación es: 0.006959452863649537\n",
            "El error absoluto bajo esta aproximación es: 0.00022150586456406995 . El error relativo de esta aproximación es: 0.0328743851197011\n"
          ]
        }
      ]
    },
    {
      "cell_type": "markdown",
      "source": [
        "Finalmente, el segundo método es la aproximación más precisa ya que el error, tanto absoluto como relativo, es mucho más pequeño que el error del primer método.\n",
        "Esto puede deberse a que en el primer método se hacen suma y restas, dependiendo del valor de n, haciendo el cálculo más complejo. Sin embargo, el segundo método son solo sumas consecutivas y luego el inverso.\n"
      ],
      "metadata": {
        "id": "Qmdh-esuYRbZ"
      }
    }
  ]
}