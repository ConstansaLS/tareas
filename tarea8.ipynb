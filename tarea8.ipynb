{
  "nbformat": 4,
  "nbformat_minor": 0,
  "metadata": {
    "colab": {
      "provenance": []
    },
    "kernelspec": {
      "name": "python3",
      "display_name": "Python 3"
    },
    "language_info": {
      "name": "python"
    }
  },
  "cells": [
    {
      "cell_type": "markdown",
      "source": [
        "#Tarea 8"
      ],
      "metadata": {
        "id": "h4wMD3ndCbyR"
      }
    },
    {
      "cell_type": "markdown",
      "metadata": {
        "id": "wjgZNZJQVHqU"
      },
      "source": [
        "En clase introducimos una fórmula para la segunda derivada usando tres evaluaciones de la función. Use la expansión en Taylor de $f(x_o + h)$, $f(x_o - h)$, $f(x_o + 2h)$ y $f(x_o - 2h)$ para encontrar una fórmula para la segunda derivada con cinco evaluaciones y estime el error cometido (la potencia de $h$)."
      ]
    },
    {
      "cell_type": "markdown",
      "source": [
        "Considerando la expansión de Taylor\n",
        "\n",
        "$$\n",
        "f(x_o + h) = f(x_o) + f'(x_o)h + \\frac{1}{2}f''(x_o)h^2 + \\frac{1}{6}f^{(3)}(x_o)h^3 + \\frac{1}{24}f^{(4)}(\\xi)h^4\n",
        "$$\n"
      ],
      "metadata": {
        "id": "eLxJL6o6Chg0"
      }
    },
    {
      "cell_type": "markdown",
      "source": [
        "$$\n",
        "f(x_o - h) = f(x_o) - f'(x_o)h + \\frac{1}{2}f''(x_o)h^2 - \\frac{1}{6}f^{(3)}(x_o)h^3 + \\frac{1}{24}f^{(4)}(\\xi)h^4\n",
        "$$\n"
      ],
      "metadata": {
        "id": "5TRhGEWcEHwH"
      }
    },
    {
      "cell_type": "markdown",
      "source": [
        "sumando los dos anteriores obtendremos:\n",
        "(1)\n",
        "$$\n",
        "f(x_o + h) + f(x_o - h) = 2f(x_o) + f''(x_o)h^2 + \\frac{1}{12}f^{(4)}(\\xi)h^4\\,.\n",
        "$$"
      ],
      "metadata": {
        "id": "HQl_61fBKzvc"
      }
    },
    {
      "cell_type": "markdown",
      "source": [
        "ahora tomando $f(x_o + 2h)$ y $f(x_o - 2h)$"
      ],
      "metadata": {
        "id": "jolrcm8-MO5b"
      }
    },
    {
      "cell_type": "markdown",
      "source": [
        "$$\n",
        "f(x_o + 2h) = f(x_o) + f'(x_o)2h + f''(x_o)2h^2 + \\frac{8}{6}f^{(3)}(x_o)h^3 + \\frac{16}{24}f^{(4)}(\\xi)h^4\n",
        "$$"
      ],
      "metadata": {
        "id": "5NB0nAaPLIRb"
      }
    },
    {
      "cell_type": "markdown",
      "source": [
        "$$\n",
        "f(x_o - 2h) = f(x_o) - f'(x_o)2h + f''(x_o)2h^2 - \\frac{8}{6}f^{(3)}(x_o)h^3 + \\frac{16}{24}f^{(4)}(\\xi)h^4\n",
        "$$\n"
      ],
      "metadata": {
        "id": "v6rDcN-GEumf"
      }
    },
    {
      "cell_type": "markdown",
      "source": [
        "sumando:\n",
        "(2)\n",
        "$$\n",
        "f(x_o+2h) + f(x_o - 2h) = 2f(x_o)+f''(x_o)4h^2 + \\frac{4}{3}f^{(4)}(\\xi)h^4\n",
        "$$"
      ],
      "metadata": {
        "id": "9dpGkjmYLgeQ"
      }
    },
    {
      "cell_type": "markdown",
      "source": [
        "sumando (1) y (2)\n",
        "$$\n",
        "f(x_o + h) + f(x_o - h) + f(x_o+2h) + f(x_o - 2h) = 4f(x_o) + 5 h^2 f''(x_o)+ \\frac{17}{12} f^{4}(\\xi)h^4\n",
        " $$\n"
      ],
      "metadata": {
        "id": "jw__RPxnMMnq"
      }
    },
    {
      "cell_type": "markdown",
      "source": [
        "Despejando $f''(x_o)$\n",
        "$$\n",
        "f''(x_o) = \\frac{1}{5h^2} (f(x_o + h) + f(x_o + 2 h) -4f(x_o) + f(x_o - h)+ f(x_o - 2h) - \\frac{17}{12} f^{4}(\\xi)h^4)\n",
        "$$\n",
        "\n",
        "es la fórmula para la segunda derivada con cinco evaluaciones"
      ],
      "metadata": {
        "id": "-_GhwjtxRcVe"
      }
    },
    {
      "cell_type": "markdown",
      "source": [
        "Por lo tanto, el error es:\n",
        "$\\frac{17}{60} f^{4}(\\xi)h^2$"
      ],
      "metadata": {
        "id": "a40lUPyzSsfR"
      }
    }
  ]
}