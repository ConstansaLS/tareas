{
  "cells": [
    {
      "cell_type": "markdown",
      "metadata": {
        "id": "h4wMD3ndCbyR"
      },
      "source": [
        "#Tarea 8"
      ]
    },
    {
      "cell_type": "markdown",
      "metadata": {
        "id": "wjgZNZJQVHqU"
      },
      "source": [
        "En clase introducimos una fórmula para la segunda derivada usando tres evaluaciones de la función. Use la expansión en Taylor de $f(x_o + h)$, $f(x_o - h)$, $f(x_o + 2h)$ y $f(x_o - 2h)$ para encontrar una fórmula para la segunda derivada con cinco evaluaciones y estime el error cometido (la potencia de $h$)."
      ]
    },
    {
      "cell_type": "markdown",
      "metadata": {
        "id": "eLxJL6o6Chg0"
      },
      "source": [
        "Considerando la expansión de Taylor\n",
        "\n",
        "$$\n",
        "f(x_o + h) = f(x_o) + f'(x_o)h + \\frac{1}{2}f''(x_o)h^2 + \\frac{1}{6}f^{(3)}(x_o)h^3 + \\frac{1}{24}f^{(4)}(\\xi)h^4\n",
        "$$\n"
      ]
    },
    {
      "cell_type": "markdown",
      "metadata": {
        "id": "5TRhGEWcEHwH"
      },
      "source": [
        "$$\n",
        "f(x_o - h) = f(x_o) - f'(x_o)h + \\frac{1}{2}f''(x_o)h^2 - \\frac{1}{6}f^{(3)}(x_o)h^3 + \\frac{1}{24}f^{(4)}(\\xi)h^4\n",
        "$$\n"
      ]
    },
    {
      "cell_type": "markdown",
      "metadata": {
        "id": "HQl_61fBKzvc"
      },
      "source": [
        "sumando los dos anteriores obtendremos:\n",
        "(1)\n",
        "$$\n",
        "f(x_o + h) + f(x_o - h) = 2f(x_o) + f''(x_o)h^2 + \\frac{1}{12}f^{(4)}(\\xi)h^4\\,.\n",
        "$$"
      ]
    },
    {
      "cell_type": "markdown",
      "metadata": {
        "id": "jolrcm8-MO5b"
      },
      "source": [
        "ahora tomando $f(x_o + 2h)$ y $f(x_o - 2h)$"
      ]
    },
    {
      "cell_type": "markdown",
      "metadata": {
        "id": "5NB0nAaPLIRb"
      },
      "source": [
        "$$\n",
        "f(x_o + 2h) = f(x_o) + f'(x_o)2h + f''(x_o)2h^2 + \\frac{8}{6}f^{(3)}(x_o)h^3 + \\frac{16}{24}f^{(4)}(\\xi)h^4\n",
        "$$"
      ]
    },
    {
      "cell_type": "markdown",
      "metadata": {
        "id": "v6rDcN-GEumf"
      },
      "source": [
        "$$\n",
        "f(x_o - 2h) = f(x_o) - f'(x_o)2h + f''(x_o)2h^2 - \\frac{8}{6}f^{(3)}(x_o)h^3 + \\frac{16}{24}f^{(4)}(\\xi)h^4\n",
        "$$\n"
      ]
    },
    {
      "cell_type": "markdown",
      "metadata": {
        "id": "9dpGkjmYLgeQ"
      },
      "source": [
        "sumando:\n",
        "(2)\n",
        "$$\n",
        "f(x_o+2h) + f(x_o - 2h) = 2f(x_o)+f''(x_o)4h^2 + \\frac{4}{3}f^{(4)}(\\xi)h^4\n",
        "$$"
      ]
    },
    {
      "cell_type": "markdown",
      "metadata": {
        "id": "jw__RPxnMMnq"
      },
      "source": [
        "sumando (1) y (2)\n",
        "$$\n",
        "f(x_o + h) + f(x_o - h) + f(x_o+2h) + f(x_o - 2h) = 4f(x_o) + 5 h^2 f''(x_o)+ \\frac{17}{12} f^{4}(\\xi)h^4\n",
        " $$\n"
      ]
    },
    {
      "cell_type": "markdown",
      "metadata": {
        "id": "-_GhwjtxRcVe"
      },
      "source": [
        "Despejando $f''(x_o)$\n",
        "$$\n",
        "f''(x_o) = \\frac{1}{5h^2} (f(x_o + h) + f(x_o + 2 h) -4f(x_o) + f(x_o - h)+ f(x_o - 2h) - \\frac{17}{12} f^{4}(\\xi)h^4)\n",
        "$$\n",
        "\n",
        "es la fórmula para la segunda derivada con cinco evaluaciones"
      ]
    },
    {
      "cell_type": "markdown",
      "metadata": {
        "id": "a40lUPyzSsfR"
      },
      "source": [
        "Por lo tanto, el error es:\n",
        "$\\frac{17}{60} f^{4}(\\xi)h^2$"
      ]
    },
    {
      "cell_type": "markdown",
      "metadata": {},
      "source": [
        "# Calificación: 7.0"
      ]
    },
    {
      "cell_type": "markdown",
      "metadata": {},
      "source": []
    }
  ],
  "metadata": {
    "colab": {
      "provenance": []
    },
    "kernelspec": {
      "display_name": "Python 3",
      "name": "python3"
    },
    "language_info": {
      "name": "python"
    }
  },
  "nbformat": 4,
  "nbformat_minor": 0
}
