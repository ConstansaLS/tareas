{
 "cells": [
  {
   "cell_type": "code",
   "execution_count": 1,
   "id": "db8f32f9",
   "metadata": {
    "scrolled": true
   },
   "outputs": [
    {
     "data": {
      "text/plain": [
       "['.ipynb_checkpoints',\n",
       " 'Tarea4.ipynb',\n",
       " 'temp.py',\n",
       " 'texto.docx',\n",
       " 'textosinsaltos',\n",
       " 'textoTarea.txt']"
      ]
     },
     "execution_count": 1,
     "metadata": {},
     "output_type": "execute_result"
    }
   ],
   "source": [
    "import os\n",
    "os.listdir()\n",
    "#para revisar que el archivo esté en la misma carpeta en la que estoy\n"
   ]
  },
  {
   "cell_type": "code",
   "execution_count": 2,
   "id": "4da6bf9d",
   "metadata": {},
   "outputs": [],
   "source": [
    "texto = \"textoTarea.txt\" #archivo donde se encuentra el texto original\n",
    "#archivo en donde se pondrá el texto sin saltos de línea\n",
    "resultado = \"textosinsaltos\""
   ]
  },
  {
   "cell_type": "code",
   "execution_count": 3,
   "id": "ad7554e7",
   "metadata": {},
   "outputs": [],
   "source": [
    " #el comando with open abrirá el archivo, ejecutará el código y finalmente cerrará el archivo automáticamente al finalizar.\n",
    "with open(texto, \"r\") as texto:\n",
    "    # Lee el archivo de entrada\n",
    "    contenido = texto.read()\n",
    "\n",
    "    # Elimina saltos de línea y divide el contenido en palabras\n",
    "    palabras = contenido.split()"
   ]
  },
  {
   "cell_type": "code",
   "execution_count": 4,
   "id": "220b1d42",
   "metadata": {},
   "outputs": [],
   "source": [
    "with open(resultado, \"w\") as resultado:\n",
    "    # Escribe todas las palabras en una sola línea.\n",
    "    resultado.write(\" \".join(palabras))"
   ]
  },
  {
   "cell_type": "markdown",
   "id": "27c1b164",
   "metadata": {},
   "source": [
    "# Calificación: 7.0"
   ]
  },
  {
   "cell_type": "markdown",
   "id": "65376edb",
   "metadata": {},
   "source": []
  }
 ],
 "metadata": {
  "kernelspec": {
   "display_name": "Python 3 (ipykernel)",
   "language": "python",
   "name": "python3"
  },
  "language_info": {
   "codemirror_mode": {
    "name": "ipython",
    "version": 3
   },
   "file_extension": ".py",
   "mimetype": "text/x-python",
   "name": "python",
   "nbconvert_exporter": "python",
   "pygments_lexer": "ipython3",
   "version": "3.11.4"
  }
 },
 "nbformat": 4,
 "nbformat_minor": 5
}
